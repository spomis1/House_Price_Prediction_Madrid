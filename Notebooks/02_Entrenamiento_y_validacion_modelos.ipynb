{
 "cells": [
  {
   "cell_type": "code",
   "execution_count": 79,
   "metadata": {},
   "outputs": [],
   "source": [
    "import pandas as pd\n",
    "import numpy as np\n",
    "import matplotlib.pyplot as plt\n",
    "import seaborn as sns\n",
    "from scipy.stats import normaltest\n",
    "from scipy.stats import anderson\n",
    "import statsmodels.api as sm\n",
    "import streamlit as st\n",
    "from sklearn.model_selection import GridSearchCV\n",
    "from sklearn.linear_model import LinearRegression\n",
    "from sklearn.model_selection import train_test_split\n",
    "from sklearn.metrics import mean_squared_error, mean_absolute_error, r2_score\n",
    "from sklearn.linear_model import LinearRegression, Ridge, Lasso\n",
    "from sklearn.ensemble import RandomForestRegressor, GradientBoostingRegressor\n",
    "from sklearn.preprocessing import StandardScaler,MinMaxScaler\n",
    "from sklearn.model_selection import cross_val_score\n",
    "import pickle\n",
    "import shap\n",
    "import xgboost as xgb\n",
    "from xgboost import XGBRegressor\n",
    "from sklearn.preprocessing import OrdinalEncoder\n",
    "from sklearn.pipeline import Pipeline\n",
    "from geopy.geocoders import Nominatim\n",
    "from sklearn.decomposition import PCA"
   ]
  },
  {
   "cell_type": "markdown",
   "metadata": {},
   "source": [
    "## 1. Carga de datos"
   ]
  },
  {
   "cell_type": "code",
   "execution_count": 80,
   "metadata": {},
   "outputs": [],
   "source": [
    "df_mad = pd.read_csv(\"../Data/Processed/madrid.csv\")"
   ]
  },
  {
   "cell_type": "code",
   "execution_count": 81,
   "metadata": {},
   "outputs": [],
   "source": [
    "df_mad= df_mad[['Latitud','Precio_Medio_cp','Superficie_m2','Habitaciones','Baños', 'Ascensor',\n",
    "       'Parking','Balcon','Aire_Acondicionado', 'Calefaccion','Piscina','Terraza','Precio']]"
   ]
  },
  {
   "cell_type": "code",
   "execution_count": 82,
   "metadata": {},
   "outputs": [
    {
     "data": {
      "text/html": [
       "<div>\n",
       "<style scoped>\n",
       "    .dataframe tbody tr th:only-of-type {\n",
       "        vertical-align: middle;\n",
       "    }\n",
       "\n",
       "    .dataframe tbody tr th {\n",
       "        vertical-align: top;\n",
       "    }\n",
       "\n",
       "    .dataframe thead th {\n",
       "        text-align: right;\n",
       "    }\n",
       "</style>\n",
       "<table border=\"1\" class=\"dataframe\">\n",
       "  <thead>\n",
       "    <tr style=\"text-align: right;\">\n",
       "      <th></th>\n",
       "      <th>Latitud</th>\n",
       "      <th>Precio_Medio_cp</th>\n",
       "      <th>Superficie_m2</th>\n",
       "      <th>Habitaciones</th>\n",
       "      <th>Baños</th>\n",
       "      <th>Ascensor</th>\n",
       "      <th>Parking</th>\n",
       "      <th>Balcon</th>\n",
       "      <th>Aire_Acondicionado</th>\n",
       "      <th>Calefaccion</th>\n",
       "      <th>Piscina</th>\n",
       "      <th>Terraza</th>\n",
       "      <th>Precio</th>\n",
       "    </tr>\n",
       "  </thead>\n",
       "  <tbody>\n",
       "    <tr>\n",
       "      <th>count</th>\n",
       "      <td>9666.000000</td>\n",
       "      <td>9.666000e+03</td>\n",
       "      <td>9666.000000</td>\n",
       "      <td>9666.000000</td>\n",
       "      <td>9666.000000</td>\n",
       "      <td>9666.000000</td>\n",
       "      <td>9666.000000</td>\n",
       "      <td>9666.000000</td>\n",
       "      <td>9666.000000</td>\n",
       "      <td>9666.000000</td>\n",
       "      <td>9666.000000</td>\n",
       "      <td>9666.000000</td>\n",
       "      <td>9.666000e+03</td>\n",
       "    </tr>\n",
       "    <tr>\n",
       "      <th>mean</th>\n",
       "      <td>40.422016</td>\n",
       "      <td>5.382725e+05</td>\n",
       "      <td>110.929030</td>\n",
       "      <td>2.665115</td>\n",
       "      <td>1.807987</td>\n",
       "      <td>0.695117</td>\n",
       "      <td>0.098800</td>\n",
       "      <td>0.174115</td>\n",
       "      <td>0.555969</td>\n",
       "      <td>0.724395</td>\n",
       "      <td>0.092179</td>\n",
       "      <td>0.366543</td>\n",
       "      <td>5.296802e+05</td>\n",
       "    </tr>\n",
       "    <tr>\n",
       "      <th>std</th>\n",
       "      <td>0.033236</td>\n",
       "      <td>3.413219e+05</td>\n",
       "      <td>85.219614</td>\n",
       "      <td>1.183477</td>\n",
       "      <td>1.020819</td>\n",
       "      <td>0.460382</td>\n",
       "      <td>0.298409</td>\n",
       "      <td>0.379228</td>\n",
       "      <td>0.496883</td>\n",
       "      <td>0.446842</td>\n",
       "      <td>0.289293</td>\n",
       "      <td>0.481885</td>\n",
       "      <td>5.296453e+05</td>\n",
       "    </tr>\n",
       "    <tr>\n",
       "      <th>min</th>\n",
       "      <td>40.331640</td>\n",
       "      <td>1.527170e+05</td>\n",
       "      <td>20.000000</td>\n",
       "      <td>0.000000</td>\n",
       "      <td>1.000000</td>\n",
       "      <td>0.000000</td>\n",
       "      <td>0.000000</td>\n",
       "      <td>0.000000</td>\n",
       "      <td>0.000000</td>\n",
       "      <td>0.000000</td>\n",
       "      <td>0.000000</td>\n",
       "      <td>0.000000</td>\n",
       "      <td>5.370000e+04</td>\n",
       "    </tr>\n",
       "    <tr>\n",
       "      <th>25%</th>\n",
       "      <td>40.398871</td>\n",
       "      <td>2.472710e+05</td>\n",
       "      <td>66.000000</td>\n",
       "      <td>2.000000</td>\n",
       "      <td>1.000000</td>\n",
       "      <td>0.000000</td>\n",
       "      <td>0.000000</td>\n",
       "      <td>0.000000</td>\n",
       "      <td>0.000000</td>\n",
       "      <td>0.000000</td>\n",
       "      <td>0.000000</td>\n",
       "      <td>0.000000</td>\n",
       "      <td>2.050000e+05</td>\n",
       "    </tr>\n",
       "    <tr>\n",
       "      <th>50%</th>\n",
       "      <td>40.422475</td>\n",
       "      <td>4.407960e+05</td>\n",
       "      <td>91.000000</td>\n",
       "      <td>3.000000</td>\n",
       "      <td>2.000000</td>\n",
       "      <td>1.000000</td>\n",
       "      <td>0.000000</td>\n",
       "      <td>0.000000</td>\n",
       "      <td>1.000000</td>\n",
       "      <td>1.000000</td>\n",
       "      <td>0.000000</td>\n",
       "      <td>0.000000</td>\n",
       "      <td>3.550000e+05</td>\n",
       "    </tr>\n",
       "    <tr>\n",
       "      <th>75%</th>\n",
       "      <td>40.442376</td>\n",
       "      <td>7.475770e+05</td>\n",
       "      <td>127.000000</td>\n",
       "      <td>3.000000</td>\n",
       "      <td>2.000000</td>\n",
       "      <td>1.000000</td>\n",
       "      <td>0.000000</td>\n",
       "      <td>0.000000</td>\n",
       "      <td>1.000000</td>\n",
       "      <td>1.000000</td>\n",
       "      <td>0.000000</td>\n",
       "      <td>1.000000</td>\n",
       "      <td>6.790000e+05</td>\n",
       "    </tr>\n",
       "    <tr>\n",
       "      <th>max</th>\n",
       "      <td>40.531520</td>\n",
       "      <td>1.709528e+06</td>\n",
       "      <td>2000.000000</td>\n",
       "      <td>13.000000</td>\n",
       "      <td>12.000000</td>\n",
       "      <td>1.000000</td>\n",
       "      <td>1.000000</td>\n",
       "      <td>1.000000</td>\n",
       "      <td>1.000000</td>\n",
       "      <td>1.000000</td>\n",
       "      <td>1.000000</td>\n",
       "      <td>1.000000</td>\n",
       "      <td>5.000000e+06</td>\n",
       "    </tr>\n",
       "  </tbody>\n",
       "</table>\n",
       "</div>"
      ],
      "text/plain": [
       "           Latitud  Precio_Medio_cp  Superficie_m2  Habitaciones        Baños  \\\n",
       "count  9666.000000     9.666000e+03    9666.000000   9666.000000  9666.000000   \n",
       "mean     40.422016     5.382725e+05     110.929030      2.665115     1.807987   \n",
       "std       0.033236     3.413219e+05      85.219614      1.183477     1.020819   \n",
       "min      40.331640     1.527170e+05      20.000000      0.000000     1.000000   \n",
       "25%      40.398871     2.472710e+05      66.000000      2.000000     1.000000   \n",
       "50%      40.422475     4.407960e+05      91.000000      3.000000     2.000000   \n",
       "75%      40.442376     7.475770e+05     127.000000      3.000000     2.000000   \n",
       "max      40.531520     1.709528e+06    2000.000000     13.000000    12.000000   \n",
       "\n",
       "          Ascensor      Parking       Balcon  Aire_Acondicionado  Calefaccion  \\\n",
       "count  9666.000000  9666.000000  9666.000000         9666.000000  9666.000000   \n",
       "mean      0.695117     0.098800     0.174115            0.555969     0.724395   \n",
       "std       0.460382     0.298409     0.379228            0.496883     0.446842   \n",
       "min       0.000000     0.000000     0.000000            0.000000     0.000000   \n",
       "25%       0.000000     0.000000     0.000000            0.000000     0.000000   \n",
       "50%       1.000000     0.000000     0.000000            1.000000     1.000000   \n",
       "75%       1.000000     0.000000     0.000000            1.000000     1.000000   \n",
       "max       1.000000     1.000000     1.000000            1.000000     1.000000   \n",
       "\n",
       "           Piscina      Terraza        Precio  \n",
       "count  9666.000000  9666.000000  9.666000e+03  \n",
       "mean      0.092179     0.366543  5.296802e+05  \n",
       "std       0.289293     0.481885  5.296453e+05  \n",
       "min       0.000000     0.000000  5.370000e+04  \n",
       "25%       0.000000     0.000000  2.050000e+05  \n",
       "50%       0.000000     0.000000  3.550000e+05  \n",
       "75%       0.000000     1.000000  6.790000e+05  \n",
       "max       1.000000     1.000000  5.000000e+06  "
      ]
     },
     "execution_count": 82,
     "metadata": {},
     "output_type": "execute_result"
    }
   ],
   "source": [
    "df_mad.describe()"
   ]
  },
  {
   "cell_type": "markdown",
   "metadata": {},
   "source": [
    "Creamos X e Y"
   ]
  },
  {
   "cell_type": "code",
   "execution_count": 83,
   "metadata": {},
   "outputs": [],
   "source": [
    "X = df_mad.drop(columns=[\"Precio\"], axis=1)\n",
    "y = df_mad[\"Precio\"]"
   ]
  },
  {
   "cell_type": "code",
   "execution_count": 84,
   "metadata": {},
   "outputs": [
    {
     "name": "stdout",
     "output_type": "stream",
     "text": [
      "(7732, 12)\n",
      "(1934, 12)\n",
      "(7732,)\n",
      "(1934,)\n"
     ]
    }
   ],
   "source": [
    "X_train, X_test, y_train, y_test = train_test_split(X, y, test_size=0.2, random_state=42)\n",
    "\n",
    "print(X_train.shape)\n",
    "print(X_test.shape)\n",
    "print(y_train.shape)\n",
    "print(y_test.shape)"
   ]
  },
  {
   "cell_type": "code",
   "execution_count": 85,
   "metadata": {},
   "outputs": [],
   "source": [
    "# Escalamos los datos del train con StandardScaler()\n",
    "scal = StandardScaler() # Declaramos el modelo\n",
    "scal.fit(X_train) # Entrenamos el modelo\n",
    "X_train_scal = scal.transform(X_train) # Aplicamos el scaler en los datos de Train \n",
    "X_test_scal = scal.transform(X_test) # Aplicamos el scaler en los datos del test\n",
    "\n",
    "#Reverse\n",
    "#X_train = scal.inverse_transform(X_train)"
   ]
  },
  {
   "cell_type": "code",
   "execution_count": 86,
   "metadata": {},
   "outputs": [
    {
     "data": {
      "text/plain": [
       "RandomForestRegressor()"
      ]
     },
     "execution_count": 86,
     "metadata": {},
     "output_type": "execute_result"
    }
   ],
   "source": [
    "rf_i = RandomForestRegressor()\n",
    "rf_i.fit(X_train, y_train)\n"
   ]
  },
  {
   "cell_type": "code",
   "execution_count": 87,
   "metadata": {},
   "outputs": [
    {
     "name": "stdout",
     "output_type": "stream",
     "text": [
      "Superficie_m2: 0.6006884747614374\n",
      "Precio_Medio_cp: 0.20601149856755965\n",
      "Latitud: 0.07551316229920671\n",
      "Baños: 0.07467401821993638\n",
      "Habitaciones: 0.014071735108702747\n",
      "Aire_Acondicionado: 0.00685964096586445\n",
      "Ascensor: 0.005516839370447457\n",
      "Terraza: 0.004172145131689068\n",
      "Calefaccion: 0.003879316683146511\n",
      "Balcon: 0.0037740820682057494\n",
      "Parking: 0.0024532204596239802\n",
      "Piscina: 0.0023858663641799422\n"
     ]
    }
   ],
   "source": [
    "importancias = rf_i.feature_importances_\n",
    "nombres_caracteristicas=rf_i.feature_names_in_\n",
    "indices_ordenados = np.argsort(importancias)[::-1]\n",
    "indices_ordenados = np.argsort(importancias)[::-1]\n",
    "for i in indices_ordenados:\n",
    "    print(f\"{nombres_caracteristicas[i]}: {importancias[i]}\")"
   ]
  },
  {
   "cell_type": "code",
   "execution_count": 88,
   "metadata": {},
   "outputs": [
    {
     "data": {
      "image/png": "[encoded data removed]",
      "text/plain": [
       "<Figure size 1200x600 with 1 Axes>"
      ]
     },
     "metadata": {},
     "output_type": "display_data"
    }
   ],
   "source": [
    "plt.figure(figsize=(12, 6))\n",
    "plt.title(\"Importancia de las Características\")\n",
    "plt.bar(range(len(importancias)), importancias[indices_ordenados], align=\"center\")\n",
    "plt.xticks(range(len(importancias)), np.array(nombres_caracteristicas)[indices_ordenados], rotation=90)\n",
    "plt.xlim([-1, len(importancias)])\n",
    "plt.show()"
   ]
  },
  {
   "cell_type": "markdown",
   "metadata": {},
   "source": [
    "## Regresión Lineal"
   ]
  },
  {
   "cell_type": "code",
   "execution_count": 89,
   "metadata": {},
   "outputs": [
    {
     "data": {
      "text/plain": [
       "LinearRegression()"
      ]
     },
     "execution_count": 89,
     "metadata": {},
     "output_type": "execute_result"
    }
   ],
   "source": [
    "# Entrenamos los datos escalados\n",
    "linear_model_scal = LinearRegression()\n",
    "linear_model_scal.fit(X_train_scal, y_train)"
   ]
  },
  {
   "cell_type": "code",
   "execution_count": 90,
   "metadata": {},
   "outputs": [
    {
     "data": {
      "text/plain": [
       "LinearRegression()"
      ]
     },
     "execution_count": 90,
     "metadata": {},
     "output_type": "execute_result"
    }
   ],
   "source": [
    "linear_model = LinearRegression()\n",
    "linear_model.fit(X_train, y_train)"
   ]
  },
  {
   "cell_type": "markdown",
   "metadata": {},
   "source": [
    "### Ridge"
   ]
  },
  {
   "cell_type": "code",
   "execution_count": 91,
   "metadata": {},
   "outputs": [
    {
     "data": {
      "text/plain": [
       "Ridge()"
      ]
     },
     "execution_count": 91,
     "metadata": {},
     "output_type": "execute_result"
    }
   ],
   "source": [
    "ridge_model = Ridge()\n",
    "ridge_model.fit(X_train,y_train)"
   ]
  },
  {
   "cell_type": "code",
   "execution_count": 92,
   "metadata": {},
   "outputs": [
    {
     "data": {
      "text/plain": [
       "Ridge()"
      ]
     },
     "execution_count": 92,
     "metadata": {},
     "output_type": "execute_result"
    }
   ],
   "source": [
    "ridge_model_scal = Ridge()\n",
    "ridge_model_scal.fit(X_train_scal,y_train)"
   ]
  },
  {
   "cell_type": "markdown",
   "metadata": {},
   "source": [
    "### Lasso"
   ]
  },
  {
   "cell_type": "code",
   "execution_count": 93,
   "metadata": {},
   "outputs": [
    {
     "data": {
      "text/plain": [
       "Lasso()"
      ]
     },
     "execution_count": 93,
     "metadata": {},
     "output_type": "execute_result"
    }
   ],
   "source": [
    "Lasso_model = Lasso()\n",
    "Lasso_model.fit(X_train,y_train)"
   ]
  },
  {
   "cell_type": "code",
   "execution_count": 94,
   "metadata": {},
   "outputs": [
    {
     "data": {
      "text/plain": [
       "Lasso()"
      ]
     },
     "execution_count": 94,
     "metadata": {},
     "output_type": "execute_result"
    }
   ],
   "source": [
    "Lasso_model_scal = Lasso()\n",
    "Lasso_model_scal.fit(X_train_scal,y_train)"
   ]
  },
  {
   "cell_type": "markdown",
   "metadata": {},
   "source": [
    "### Random Forest Regressor"
   ]
  },
  {
   "cell_type": "code",
   "execution_count": 95,
   "metadata": {},
   "outputs": [
    {
     "data": {
      "text/plain": [
       "RandomForestRegressor()"
      ]
     },
     "execution_count": 95,
     "metadata": {},
     "output_type": "execute_result"
    }
   ],
   "source": [
    "rf = RandomForestRegressor()\n",
    "rf.fit(X_train,y_train)"
   ]
  },
  {
   "cell_type": "code",
   "execution_count": 96,
   "metadata": {},
   "outputs": [
    {
     "data": {
      "text/plain": [
       "RandomForestRegressor()"
      ]
     },
     "execution_count": 96,
     "metadata": {},
     "output_type": "execute_result"
    }
   ],
   "source": [
    "rf_scal = RandomForestRegressor()\n",
    "rf_scal.fit(X_train_scal,y_train)"
   ]
  },
  {
   "cell_type": "code",
   "execution_count": 20,
   "metadata": {},
   "outputs": [],
   "source": [
    "\n",
    "modelo = RandomForestRegressor()\n",
    "\n",
    "parameters = {\"n_estimators\":[10,100,200],\n",
    "              \"max_depth\":[3,6,8],\n",
    "              \"criterion\": ['squared_error', 'absolute_error'],\n",
    "              \"min_samples_split\": [2, 5, 7],\n",
    "              \"min_samples_leaf\": [1, 2, 4],\n",
    "              \"max_features\": [3,5,8]\n",
    "}\n",
    "\n",
    "rfr_gs = GridSearchCV(modelo,\n",
    "                      parameters,\n",
    "                      cv=5,\n",
    "                      scoring=\"neg_mean_absolute_error\",\n",
    "                      n_jobs= -1)"
   ]
  },
  {
   "cell_type": "code",
   "execution_count": 21,
   "metadata": {},
   "outputs": [
    {
     "data": {
      "text/plain": [
       "GridSearchCV(cv=5, estimator=RandomForestRegressor(), n_jobs=-1,\n",
       "             param_grid={'criterion': ['squared_error', 'absolute_error'],\n",
       "                         'max_depth': [3, 6, 8], 'max_features': [3, 5, 8],\n",
       "                         'min_samples_leaf': [1, 2, 4],\n",
       "                         'min_samples_split': [2, 5, 7],\n",
       "                         'n_estimators': [10, 100, 200]},\n",
       "             scoring='neg_mean_absolute_error')"
      ]
     },
     "execution_count": 21,
     "metadata": {},
     "output_type": "execute_result"
    }
   ],
   "source": [
    "rfr_gs.fit(X_train, y_train)"
   ]
  },
  {
   "cell_type": "code",
   "execution_count": 22,
   "metadata": {},
   "outputs": [
    {
     "data": {
      "text/plain": [
       "{'criterion': 'absolute_error',\n",
       " 'max_depth': 8,\n",
       " 'max_features': 8,\n",
       " 'min_samples_leaf': 2,\n",
       " 'min_samples_split': 7,\n",
       " 'n_estimators': 200}"
      ]
     },
     "execution_count": 22,
     "metadata": {},
     "output_type": "execute_result"
    }
   ],
   "source": [
    "rfr_gs.best_params_"
   ]
  },
  {
   "cell_type": "markdown",
   "metadata": {},
   "source": [
    "### GardientBoosting"
   ]
  },
  {
   "cell_type": "code",
   "execution_count": 23,
   "metadata": {},
   "outputs": [
    {
     "data": {
      "text/plain": [
       "GradientBoostingRegressor()"
      ]
     },
     "execution_count": 23,
     "metadata": {},
     "output_type": "execute_result"
    }
   ],
   "source": [
    "GB_model = GradientBoostingRegressor()\n",
    "GB_model.fit(X_train,y_train)"
   ]
  },
  {
   "cell_type": "markdown",
   "metadata": {},
   "source": [
    "### Pipeline"
   ]
  },
  {
   "cell_type": "code",
   "execution_count": 100,
   "metadata": {},
   "outputs": [
    {
     "data": {
      "text/plain": [
       "GridSearchCV(cv=5,\n",
       "             estimator=Pipeline(steps=[('n_estimators', None),\n",
       "                                       ('model', None)]),\n",
       "             param_grid=[{'model': [LinearRegression()]},\n",
       "                         {'model': [RandomForestRegressor()],\n",
       "                          'model__max_depth': [None, 5, 10],\n",
       "                          'model__n_estimators': [10, 50, 100]}],\n",
       "             scoring='neg_mean_squared_error')"
      ]
     },
     "execution_count": 100,
     "metadata": {},
     "output_type": "execute_result"
    }
   ],
   "source": [
    "# Definimos los pasos del Pipeline\n",
    "steps = [ ('n_estimators',None),\n",
    "    ('model', None)  # Modelo a evaluar (se especificará posteriormente)\n",
    "]\n",
    "\n",
    "# Crear el pipeline\n",
    "pipeline = Pipeline(steps)\n",
    "\n",
    "# Definir los hiperparámetros a ajustar para cada modelo\n",
    "parameters = [\n",
    "    {\n",
    "        'model': [LinearRegression()]  # Regresión lineal\n",
    "    },\n",
    "    {\n",
    "        'model': [RandomForestRegressor()],  # RandomForestRegressor\n",
    "        'model__n_estimators': [10, 50, 100],  # Número de árboles en el bosque\n",
    "        'model__max_depth': [None, 5, 10],  # Profundidad máxima de los árboles\n",
    "    }\n",
    "]\n",
    "\n",
    "# Realizar la búsqueda de hiperparámetros y seleccionar el mejor modelo\n",
    "grid_search = GridSearchCV(pipeline, parameters, cv=5, scoring='neg_mean_squared_error')\n",
    "grid_search.fit(X_train, y_train)  # X_train y y_train son tus datos de entrenamiento"
   ]
  },
  {
   "cell_type": "code",
   "execution_count": 101,
   "metadata": {},
   "outputs": [
    {
     "data": {
      "text/plain": [
       "Pipeline(steps=[('n_estimators', None), ('model', RandomForestRegressor())])"
      ]
     },
     "execution_count": 101,
     "metadata": {},
     "output_type": "execute_result"
    }
   ],
   "source": [
    "# Obtener el mejor modelo y sus hiperparámetros\n",
    "best_model = grid_search.best_estimator_\n",
    "best_model"
   ]
  },
  {
   "cell_type": "markdown",
   "metadata": {},
   "source": [
    "### PCA"
   ]
  },
  {
   "cell_type": "code",
   "execution_count": 26,
   "metadata": {},
   "outputs": [],
   "source": [
    "from sklearn.decomposition import PCA"
   ]
  },
  {
   "cell_type": "code",
   "execution_count": 27,
   "metadata": {},
   "outputs": [],
   "source": [
    "scaler = StandardScaler()\n",
    "X_scaled = scaler.fit_transform(X)"
   ]
  },
  {
   "cell_type": "code",
   "execution_count": 28,
   "metadata": {},
   "outputs": [
    {
     "data": {
      "text/plain": [
       "(9666, 12)"
      ]
     },
     "execution_count": 28,
     "metadata": {},
     "output_type": "execute_result"
    }
   ],
   "source": [
    "X_scaled.shape"
   ]
  },
  {
   "cell_type": "code",
   "execution_count": 29,
   "metadata": {},
   "outputs": [],
   "source": [
    "pca = PCA(n_components=8)\n",
    "X_pca = pca.fit_transform(X_scaled)\n"
   ]
  },
  {
   "cell_type": "code",
   "execution_count": 30,
   "metadata": {},
   "outputs": [
    {
     "data": {
      "text/plain": [
       "array([0.25909463, 0.3866417 , 0.49178489, 0.58254628, 0.66315476,\n",
       "       0.73218369, 0.8003593 , 0.86182782])"
      ]
     },
     "execution_count": 30,
     "metadata": {},
     "output_type": "execute_result"
    }
   ],
   "source": [
    "pca.explained_variance_ratio_.cumsum()"
   ]
  },
  {
   "cell_type": "code",
   "execution_count": 31,
   "metadata": {},
   "outputs": [
    {
     "data": {
      "image/png": "[encoded data removed]",
      "text/plain": [
       "<Figure size 640x480 with 1 Axes>"
      ]
     },
     "metadata": {},
     "output_type": "display_data"
    }
   ],
   "source": [
    "plt.plot(pd.Series(pca.explained_variance_ratio_.cumsum(), index=np.arange(1,9)))\n",
    "plt.xlabel('Number of PCs')\n",
    "plt.ylabel(\"Cumulative explained variance ratio\");"
   ]
  },
  {
   "cell_type": "code",
   "execution_count": 32,
   "metadata": {},
   "outputs": [
    {
     "data": {
      "text/plain": [
       "Pipeline(steps=[('scaler', StandardScaler()), ('pca', PCA(n_components=5)),\n",
       "                ('classifier', RandomForestRegressor())])"
      ]
     },
     "execution_count": 32,
     "metadata": {},
     "output_type": "execute_result"
    }
   ],
   "source": [
    "pipe = Pipeline(steps=[\n",
    "    ('scaler', StandardScaler()),\n",
    "    ('pca', PCA(n_components=5)),\n",
    "    ('classifier', RandomForestRegressor())\n",
    "])\n",
    "pipe"
   ]
  },
  {
   "cell_type": "code",
   "execution_count": 33,
   "metadata": {},
   "outputs": [
    {
     "data": {
      "text/plain": [
       "GridSearchCV(cv=5,\n",
       "             estimator=Pipeline(steps=[('scaler', StandardScaler()),\n",
       "                                       ('pca', PCA(n_components=5)),\n",
       "                                       ('classifier',\n",
       "                                        RandomForestRegressor())]),\n",
       "             param_grid={'classifier__max_depth': array([3, 4, 5, 6]),\n",
       "                         'classifier__min_samples_leaf': [2, 3, 4],\n",
       "                         'pca__n_components': [5, 6, 7],\n",
       "                         'scaler': [StandardScaler(), None]},\n",
       "             scoring='neg_mean_absolute_error')"
      ]
     },
     "execution_count": 33,
     "metadata": {},
     "output_type": "execute_result"
    }
   ],
   "source": [
    "params= {\n",
    "    'scaler': [StandardScaler(), None],\n",
    "    'pca__n_components': [5,6,7],\n",
    "    'classifier__max_depth': np.arange(3,7),\n",
    "    'classifier__min_samples_leaf': [2,3,4]\n",
    "}\n",
    "\n",
    "gs = GridSearchCV(pipe, params, cv=5, scoring='neg_mean_absolute_error')\n",
    "gs.fit(X_train, y_train)"
   ]
  },
  {
   "cell_type": "markdown",
   "metadata": {},
   "source": [
    "## VALORACION DE MODELOS"
   ]
  },
  {
   "cell_type": "code",
   "execution_count": 102,
   "metadata": {},
   "outputs": [],
   "source": [
    "# Funcion de Valoración de los modelos\n",
    "def valoracion_modelos(tipo, modelo, Xtest, ytest):\n",
    "    y_pred = modelo.predict(Xtest)\n",
    "    print(\"R2_score\",tipo, r2_score(ytest , y_pred))\n",
    "    print(\"MAE\", tipo, mean_absolute_error(ytest, y_pred))\n",
    "    print(\"MSE\",tipo, mean_squared_error(ytest, y_pred))\n",
    "    print(\"MAPE\",tipo,np.mean(np.abs((ytest-y_pred)/ytest)) * 100)"
   ]
  },
  {
   "cell_type": "code",
   "execution_count": 103,
   "metadata": {},
   "outputs": [
    {
     "name": "stdout",
     "output_type": "stream",
     "text": [
      "R2_score pca_randomforest 0.8278721311775513\n",
      "MAE pca_randomforest 119621.29812111023\n",
      "MSE pca_randomforest 50080255541.73725\n",
      "MAPE pca_randomforest 23.988085091554446\n"
     ]
    }
   ],
   "source": [
    "valoracion_modelos(\"pca_randomforest\",gs, X_test, y_test )"
   ]
  },
  {
   "cell_type": "markdown",
   "metadata": {},
   "source": [
    "### Evaluacion modelos"
   ]
  },
  {
   "cell_type": "code",
   "execution_count": 104,
   "metadata": {},
   "outputs": [
    {
     "name": "stdout",
     "output_type": "stream",
     "text": [
      "R2_score linear_model 0.7491558315821971\n",
      "MAE linear_model 148695.3066479008\n",
      "MSE linear_model 72982603813.42606\n",
      "MAPE linear_model 33.1827086926275\n"
     ]
    }
   ],
   "source": [
    "valoracion_modelos(\"linear_model\",linear_model, X_test, y_test )"
   ]
  },
  {
   "cell_type": "code",
   "execution_count": 105,
   "metadata": {},
   "outputs": [
    {
     "name": "stdout",
     "output_type": "stream",
     "text": [
      "R2_score linear_model_scal 0.7491558315821981\n",
      "MAE linear_model_scal 148695.3066479018\n",
      "MSE linear_model_scal 72982603813.42577\n",
      "MAPE linear_model_scal 33.18270869262809\n"
     ]
    }
   ],
   "source": [
    "valoracion_modelos(\"linear_model_scal\",linear_model_scal, X_test_scal, y_test )"
   ]
  },
  {
   "cell_type": "code",
   "execution_count": 106,
   "metadata": {},
   "outputs": [
    {
     "name": "stdout",
     "output_type": "stream",
     "text": [
      "R2_score Ridge 0.7491438695384725\n",
      "MAE Ridge 148299.7213160161\n",
      "MSE Ridge 72986084145.87096\n",
      "MAPE Ridge 33.01425708736371\n"
     ]
    }
   ],
   "source": [
    "valoracion_modelos(\"Ridge\",ridge_model, X_test, y_test )"
   ]
  },
  {
   "cell_type": "code",
   "execution_count": 107,
   "metadata": {},
   "outputs": [
    {
     "name": "stdout",
     "output_type": "stream",
     "text": [
      "R2_score Ridge_scal 0.749168561867682\n",
      "MAE Ridge_scal 148688.03820549193\n",
      "MSE Ridge_scal 72978899962.59377\n",
      "MAPE Ridge_scal 33.17895305886986\n"
     ]
    }
   ],
   "source": [
    "valoracion_modelos(\"Ridge_scal\",ridge_model_scal, X_test_scal, y_test )"
   ]
  },
  {
   "cell_type": "code",
   "execution_count": 108,
   "metadata": {},
   "outputs": [
    {
     "name": "stdout",
     "output_type": "stream",
     "text": [
      "R2_score Lasso 0.7491570829491363\n",
      "MAE Lasso 148690.47391514675\n",
      "MSE Lasso 72982239730.74428\n",
      "MAPE Lasso 33.1805921772023\n"
     ]
    }
   ],
   "source": [
    "valoracion_modelos(\"Lasso\",Lasso_model, X_test, y_test )"
   ]
  },
  {
   "cell_type": "code",
   "execution_count": 109,
   "metadata": {},
   "outputs": [
    {
     "name": "stdout",
     "output_type": "stream",
     "text": [
      "R2_score Lasso_scal 0.7491565911383775\n",
      "MAE Lasso_scal 148694.39278844238\n",
      "MSE Lasso_scal 72982382822.09055\n",
      "MAPE Lasso_scal 33.18223691155038\n"
     ]
    }
   ],
   "source": [
    "valoracion_modelos(\"Lasso_scal\",Lasso_model_scal, X_test_scal, y_test )"
   ]
  },
  {
   "cell_type": "code",
   "execution_count": 110,
   "metadata": {},
   "outputs": [
    {
     "name": "stdout",
     "output_type": "stream",
     "text": [
      "R2_score RandomForest 0.8901842960762529\n",
      "MAE RandomForest 82530.26829039247\n",
      "MSE RandomForest 31950657105.21224\n",
      "MAPE RandomForest 15.37942497658654\n"
     ]
    }
   ],
   "source": [
    "valoracion_modelos('RandomForest',rf,X_test,y_test)"
   ]
  },
  {
   "cell_type": "code",
   "execution_count": 111,
   "metadata": {},
   "outputs": [
    {
     "name": "stdout",
     "output_type": "stream",
     "text": [
      "R2_score RandomForest_Scal 0.8902273451087914\n",
      "MAE RandomForest_Scal 82740.6138646772\n",
      "MSE RandomForest_Scal 31938132076.202705\n",
      "MAPE RandomForest_Scal 15.430934719348746\n"
     ]
    }
   ],
   "source": [
    "valoracion_modelos('RandomForest_Scal',rf_scal,X_test_scal,y_test)"
   ]
  },
  {
   "cell_type": "code",
   "execution_count": 112,
   "metadata": {},
   "outputs": [
    {
     "name": "stdout",
     "output_type": "stream",
     "text": [
      "R2_score RandomForest_GS 0.8627345195113544\n",
      "MAE RandomForest_GS 95353.74925930714\n",
      "MSE RandomForest_GS 39937114117.30549\n",
      "MAPE RandomForest_GS 17.617173840881755\n"
     ]
    }
   ],
   "source": [
    "valoracion_modelos('RandomForest_GS',rfr_gs,X_test,y_test)"
   ]
  },
  {
   "cell_type": "code",
   "execution_count": 113,
   "metadata": {},
   "outputs": [
    {
     "name": "stdout",
     "output_type": "stream",
     "text": [
      "R2_score GB 0.871554863379477\n",
      "MAE GB 101767.41738642924\n",
      "MSE GB 37370852895.90373\n",
      "MAPE GB 19.894489552761595\n"
     ]
    }
   ],
   "source": [
    "valoracion_modelos(\"GB\",GB_model, X_test, y_test )"
   ]
  },
  {
   "cell_type": "code",
   "execution_count": 114,
   "metadata": {},
   "outputs": [],
   "source": [
    "# valoracion_modelos('RandomForest',rfr_gs,X_test,y_test)"
   ]
  },
  {
   "cell_type": "code",
   "execution_count": 115,
   "metadata": {},
   "outputs": [
    {
     "name": "stdout",
     "output_type": "stream",
     "text": [
      "R2_score pipeline 0.8901975768486365\n",
      "MAE pipeline 82316.23431501452\n",
      "MSE pipeline 31946793091.329338\n",
      "MAPE pipeline 15.322686084597494\n"
     ]
    }
   ],
   "source": [
    "valoracion_modelos(\"pipeline\",best_model,X_test,y_test)"
   ]
  },
  {
   "cell_type": "markdown",
   "metadata": {},
   "source": [
    "### Exportación de modelos"
   ]
  },
  {
   "cell_type": "code",
   "execution_count": 116,
   "metadata": {},
   "outputs": [],
   "source": [
    "# Exportamos el RandomForestRegresor del GridSerchCV\n",
    "with open('../Models/rf_scal.pkl', 'wb') as salida:\n",
    "    pickle.dump(rf_scal,salida)"
   ]
  },
  {
   "cell_type": "code",
   "execution_count": 117,
   "metadata": {},
   "outputs": [],
   "source": [
    "# Exportamos el RandomForestRegresor del Pipeline\n",
    "with open('../Models/Rf.pkl', 'wb') as salida:\n",
    "    pickle.dump(rf,salida)"
   ]
  },
  {
   "cell_type": "code",
   "execution_count": 118,
   "metadata": {},
   "outputs": [],
   "source": [
    "\n",
    "# Guardando el modelo con protocol=4\n",
    "with open('../Models/RF.pkl', 'wb') as file:\n",
    "    pickle.dump(rf, file, protocol=4)"
   ]
  }
 ],
 "metadata": {
  "kernelspec": {
   "display_name": "madrid_housing_ml",
   "language": "python",
   "name": "python3"
  },
  "language_info": {
   "codemirror_mode": {
    "name": "ipython",
    "version": 3
   },
   "file_extension": ".py",
   "mimetype": "text/x-python",
   "name": "python",
   "nbconvert_exporter": "python",
   "pygments_lexer": "ipython3",
   "version": "3.9.18"
  }
 },
 "nbformat": 4,
 "nbformat_minor": 2
}
